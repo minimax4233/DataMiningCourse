{
 "cells": [
  {
   "attachments": {},
   "cell_type": "markdown",
   "id": "b6a604ea",
   "metadata": {},
   "source": [
    "# Frequent Pattern Mining\n",
    "\n",
    "Dataset:\n",
    "Bank-marketing (https://www.kaggle.com/datasets/janiobachmann/bank-marketing-dataset)"
   ]
  },
  {
   "cell_type": "code",
   "execution_count": 1,
   "id": "4ec6bde8",
   "metadata": {},
   "outputs": [],
   "source": [
    "import numpy as np\n",
    "import pandas as pd\n",
    "import matplotlib.pyplot as plt\n",
    "import seaborn as sns\n",
    "import os\n",
    "import scipy.stats as stats\n",
    "\n",
    "# 即时生成图片\n",
    "%matplotlib inline\n",
    "\n",
    "# 隠藏Wranning \n",
    "import warnings\n",
    "#warnings.filterwarnings(\"ignore\")"
   ]
  },
  {
   "attachments": {},
   "cell_type": "markdown",
   "id": "53e6acb0",
   "metadata": {},
   "source": [
    "# 1. 导入数据集\n"
   ]
  },
  {
   "cell_type": "code",
   "execution_count": 2,
   "id": "626a33c1",
   "metadata": {},
   "outputs": [
    {
     "name": "stdout",
     "output_type": "stream",
     "text": [
      "<class 'pandas.core.frame.DataFrame'>\n",
      "RangeIndex: 11162 entries, 0 to 11161\n",
      "Data columns (total 17 columns):\n",
      " #   Column     Non-Null Count  Dtype \n",
      "---  ------     --------------  ----- \n",
      " 0   age        11162 non-null  int64 \n",
      " 1   job        11162 non-null  object\n",
      " 2   marital    11162 non-null  object\n",
      " 3   education  11162 non-null  object\n",
      " 4   default    11162 non-null  object\n",
      " 5   balance    11162 non-null  int64 \n",
      " 6   housing    11162 non-null  object\n",
      " 7   loan       11162 non-null  object\n",
      " 8   contact    11162 non-null  object\n",
      " 9   day        11162 non-null  int64 \n",
      " 10  month      11162 non-null  object\n",
      " 11  duration   11162 non-null  int64 \n",
      " 12  campaign   11162 non-null  int64 \n",
      " 13  pdays      11162 non-null  int64 \n",
      " 14  previous   11162 non-null  int64 \n",
      " 15  poutcome   11162 non-null  object\n",
      " 16  deposit    11162 non-null  object\n",
      "dtypes: int64(7), object(10)\n",
      "memory usage: 1.4+ MB\n"
     ]
    }
   ],
   "source": [
    "# import bank.csv\n",
    "dataset = pd.read_csv(\"data/bank.csv\")\n",
    "#print(f'Dataset size: {dataset.shape}')\n",
    "#print(f'{\"Column Name\":<16}Data Type')\n",
    "dataset.info()\n",
    "\n",
    "#dataset = dataset.drop('Id',axis=1)\n",
    "#print(f'After Delete, Dataset size: {dataset.shape}')\n",
    "\n"
   ]
  },
  {
   "attachments": {},
   "cell_type": "markdown",
   "id": "be0728db",
   "metadata": {},
   "source": [
    "# 2. 数据预处理\n",
    "\n",
    "此次数据集没有缺失值, 但有一项栏位 `duration` 表示营销联系时的持续时间, 然而在执行呼叫之前持续时间是未知的, 因此将其丢弃。"
   ]
  },
  {
   "cell_type": "code",
   "execution_count": 3,
   "id": "57c5f15c",
   "metadata": {},
   "outputs": [
    {
     "name": "stdout",
     "output_type": "stream",
     "text": [
      "<class 'pandas.core.frame.DataFrame'>\n",
      "RangeIndex: 11162 entries, 0 to 11161\n",
      "Data columns (total 16 columns):\n",
      " #   Column     Non-Null Count  Dtype \n",
      "---  ------     --------------  ----- \n",
      " 0   age        11162 non-null  int64 \n",
      " 1   job        11162 non-null  object\n",
      " 2   marital    11162 non-null  object\n",
      " 3   education  11162 non-null  object\n",
      " 4   default    11162 non-null  object\n",
      " 5   balance    11162 non-null  int64 \n",
      " 6   housing    11162 non-null  object\n",
      " 7   loan       11162 non-null  object\n",
      " 8   contact    11162 non-null  object\n",
      " 9   day        11162 non-null  int64 \n",
      " 10  month      11162 non-null  object\n",
      " 11  campaign   11162 non-null  int64 \n",
      " 12  pdays      11162 non-null  int64 \n",
      " 13  previous   11162 non-null  int64 \n",
      " 14  poutcome   11162 non-null  object\n",
      " 15  deposit    11162 non-null  object\n",
      "dtypes: int64(6), object(10)\n",
      "memory usage: 1.4+ MB\n"
     ]
    }
   ],
   "source": [
    "\n",
    "# 持续时间：最后一次联系持续时间，以秒为单位（数字）\n",
    "dataset = dataset.drop('duration',axis=1)\n",
    "\n",
    "dataset.info()"
   ]
  },
  {
   "attachments": {},
   "cell_type": "markdown",
   "id": "53c8fa58",
   "metadata": {},
   "source": [
    "# 3. Apriori 算法\n",
    "观察数据集\n"
   ]
  },
  {
   "cell_type": "code",
   "execution_count": 4,
   "id": "8c5ff438",
   "metadata": {},
   "outputs": [
    {
     "data": {
      "text/html": [
       "<div>\n",
       "<style scoped>\n",
       "    .dataframe tbody tr th:only-of-type {\n",
       "        vertical-align: middle;\n",
       "    }\n",
       "\n",
       "    .dataframe tbody tr th {\n",
       "        vertical-align: top;\n",
       "    }\n",
       "\n",
       "    .dataframe thead th {\n",
       "        text-align: right;\n",
       "    }\n",
       "</style>\n",
       "<table border=\"1\" class=\"dataframe\">\n",
       "  <thead>\n",
       "    <tr style=\"text-align: right;\">\n",
       "      <th></th>\n",
       "      <th>age</th>\n",
       "      <th>balance</th>\n",
       "      <th>day</th>\n",
       "      <th>campaign</th>\n",
       "      <th>pdays</th>\n",
       "      <th>previous</th>\n",
       "    </tr>\n",
       "  </thead>\n",
       "  <tbody>\n",
       "    <tr>\n",
       "      <th>count</th>\n",
       "      <td>11162.000000</td>\n",
       "      <td>11162.000000</td>\n",
       "      <td>11162.000000</td>\n",
       "      <td>11162.000000</td>\n",
       "      <td>11162.000000</td>\n",
       "      <td>11162.000000</td>\n",
       "    </tr>\n",
       "    <tr>\n",
       "      <th>mean</th>\n",
       "      <td>41.231948</td>\n",
       "      <td>1528.538524</td>\n",
       "      <td>15.658036</td>\n",
       "      <td>2.508421</td>\n",
       "      <td>51.330407</td>\n",
       "      <td>0.832557</td>\n",
       "    </tr>\n",
       "    <tr>\n",
       "      <th>std</th>\n",
       "      <td>11.913369</td>\n",
       "      <td>3225.413326</td>\n",
       "      <td>8.420740</td>\n",
       "      <td>2.722077</td>\n",
       "      <td>108.758282</td>\n",
       "      <td>2.292007</td>\n",
       "    </tr>\n",
       "    <tr>\n",
       "      <th>min</th>\n",
       "      <td>18.000000</td>\n",
       "      <td>-6847.000000</td>\n",
       "      <td>1.000000</td>\n",
       "      <td>1.000000</td>\n",
       "      <td>-1.000000</td>\n",
       "      <td>0.000000</td>\n",
       "    </tr>\n",
       "    <tr>\n",
       "      <th>25%</th>\n",
       "      <td>32.000000</td>\n",
       "      <td>122.000000</td>\n",
       "      <td>8.000000</td>\n",
       "      <td>1.000000</td>\n",
       "      <td>-1.000000</td>\n",
       "      <td>0.000000</td>\n",
       "    </tr>\n",
       "    <tr>\n",
       "      <th>50%</th>\n",
       "      <td>39.000000</td>\n",
       "      <td>550.000000</td>\n",
       "      <td>15.000000</td>\n",
       "      <td>2.000000</td>\n",
       "      <td>-1.000000</td>\n",
       "      <td>0.000000</td>\n",
       "    </tr>\n",
       "    <tr>\n",
       "      <th>75%</th>\n",
       "      <td>49.000000</td>\n",
       "      <td>1708.000000</td>\n",
       "      <td>22.000000</td>\n",
       "      <td>3.000000</td>\n",
       "      <td>20.750000</td>\n",
       "      <td>1.000000</td>\n",
       "    </tr>\n",
       "    <tr>\n",
       "      <th>max</th>\n",
       "      <td>95.000000</td>\n",
       "      <td>81204.000000</td>\n",
       "      <td>31.000000</td>\n",
       "      <td>63.000000</td>\n",
       "      <td>854.000000</td>\n",
       "      <td>58.000000</td>\n",
       "    </tr>\n",
       "  </tbody>\n",
       "</table>\n",
       "</div>"
      ],
      "text/plain": [
       "                age       balance           day      campaign         pdays  \\\n",
       "count  11162.000000  11162.000000  11162.000000  11162.000000  11162.000000   \n",
       "mean      41.231948   1528.538524     15.658036      2.508421     51.330407   \n",
       "std       11.913369   3225.413326      8.420740      2.722077    108.758282   \n",
       "min       18.000000  -6847.000000      1.000000      1.000000     -1.000000   \n",
       "25%       32.000000    122.000000      8.000000      1.000000     -1.000000   \n",
       "50%       39.000000    550.000000     15.000000      2.000000     -1.000000   \n",
       "75%       49.000000   1708.000000     22.000000      3.000000     20.750000   \n",
       "max       95.000000  81204.000000     31.000000     63.000000    854.000000   \n",
       "\n",
       "           previous  \n",
       "count  11162.000000  \n",
       "mean       0.832557  \n",
       "std        2.292007  \n",
       "min        0.000000  \n",
       "25%        0.000000  \n",
       "50%        0.000000  \n",
       "75%        1.000000  \n",
       "max       58.000000  "
      ]
     },
     "execution_count": 4,
     "metadata": {},
     "output_type": "execute_result"
    }
   ],
   "source": [
    "dataset.describe() "
   ]
  },
  {
   "attachments": {},
   "cell_type": "markdown",
   "id": "6fcefc0e",
   "metadata": {},
   "source": [
    "# 算法实现"
   ]
  },
  {
   "cell_type": "code",
   "execution_count": 5,
   "id": "b2834040",
   "metadata": {},
   "outputs": [
    {
     "name": "stdout",
     "output_type": "stream",
     "text": [
      "731\n"
     ]
    }
   ],
   "source": [
    "from itertools import combinations, chain\n",
    "\n",
    "# 数据集转換成patters\n",
    "def convertPatterns(dataset, k):\n",
    "    patterns = set()\n",
    "    # 遍历数据集\n",
    "    for data in dataset:\n",
    "        for itemset in combinations(data, k):\n",
    "            patterns.add(itemset)\n",
    "    return patterns\n",
    "\n",
    "# 计算支持度\n",
    "def calcSupport(pattern, dataset):\n",
    "    count = 0\n",
    "    for data in dataset:\n",
    "        if set(pattern).issubset(set(data)):\n",
    "            count += 1\n",
    "    return count\n",
    "\n",
    "# 生成超集\n",
    "def powerset(iterable):\n",
    "    s = list(iterable)\n",
    "    return chain.from_iterable(combinations(s, r) for r in range(len(s) + 1))\n",
    "\n",
    "\n",
    "def selfApriori(dataset, min_support):\n",
    "    frequent_itemsets = []\n",
    "    k = 1\n",
    "\n",
    "    while True:\n",
    "        # 生成候选 patterns 集\n",
    "        patterns = convertPatterns(dataset, k)\n",
    "        \n",
    "        if not patterns:\n",
    "            break\n",
    "\n",
    "        frequent_itemsets_k = []\n",
    "        for pattern in patterns:\n",
    "            # 计算 pattern 的支持度\n",
    "            support = calcSupport(pattern, dataset)\n",
    "            if support >= min_support:\n",
    "                frequent_itemsets_k.append(pattern)\n",
    "\n",
    "        frequent_itemsets.extend(frequent_itemsets_k)\n",
    "        k += 1\n",
    "\n",
    "    return frequent_itemsets\n",
    "\n",
    "# 测试代码\n",
    "aprioriDataset = dataset.select_dtypes(object).head(100).values.tolist()\n",
    "min_support = 50\n",
    "frequent_itemsets = selfApriori(aprioriDataset, min_support)\n",
    "print(len(frequent_itemsets))\n",
    "#print(list(frequent_itemsets))"
   ]
  },
  {
   "cell_type": "code",
   "execution_count": 6,
   "id": "ef66eebe",
   "metadata": {},
   "outputs": [
    {
     "name": "stdout",
     "output_type": "stream",
     "text": [
      "731\n"
     ]
    }
   ],
   "source": [
    "aprioriDataset2 = dataset.select_dtypes(object)\n",
    "\n",
    "aprioriDataset2 = aprioriDataset2.drop(['month', 'default', 'housing', 'loan'], axis=1)\n",
    "#print(aprioriDataset2.describe())\n",
    "aprioriDataset2 = aprioriDataset2.head(100).values.tolist()\n",
    "min_support = 50\n",
    "frequent_itemsets = selfApriori(aprioriDataset, min_support)\n",
    "print(len(frequent_itemsets))\n",
    "#print(list(frequent_itemsets))"
   ]
  },
  {
   "attachments": {},
   "cell_type": "markdown",
   "id": "96c6e50d",
   "metadata": {},
   "source": [
    "由于对数据处理的不够完善, 导致 Apriori 的结果很多, 不太好\n",
    "应该可以在输入数据集时, 对数据集进行进一步处理"
   ]
  }
 ],
 "metadata": {
  "kernelspec": {
   "display_name": "Python 3 (ipykernel)",
   "language": "python",
   "name": "python3"
  },
  "language_info": {
   "codemirror_mode": {
    "name": "ipython",
    "version": 3
   },
   "file_extension": ".py",
   "mimetype": "text/x-python",
   "name": "python",
   "nbconvert_exporter": "python",
   "pygments_lexer": "ipython3",
   "version": "3.9.13"
  }
 },
 "nbformat": 4,
 "nbformat_minor": 5
}
